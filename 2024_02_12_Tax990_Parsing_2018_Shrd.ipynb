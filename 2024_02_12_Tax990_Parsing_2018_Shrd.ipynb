{
  "nbformat": 4,
  "nbformat_minor": 0,
  "metadata": {
    "colab": {
      "provenance": [],
      "authorship_tag": "ABX9TyMY/ubaFHLP7jV/NigBuP4z"
    },
    "kernelspec": {
      "name": "python3",
      "display_name": "Python 3"
    },
    "language_info": {
      "name": "python"
    }
  },
  "cells": [
    {
      "cell_type": "markdown",
      "source": [
        "## Install"
      ],
      "metadata": {
        "id": "18tpyvb7l7Q8"
      }
    },
    {
      "cell_type": "code",
      "execution_count": 1,
      "metadata": {
        "colab": {
          "base_uri": "https://localhost:8080/"
        },
        "id": "gnjshV3alnU7",
        "outputId": "dffbff66-fc3e-4d64-c831-4f625d4c2947"
      },
      "outputs": [
        {
          "output_type": "stream",
          "name": "stdout",
          "text": [
            "Collecting pymupdf\n",
            "  Downloading PyMuPDF-1.23.21-cp310-none-manylinux2014_x86_64.whl (4.4 MB)\n",
            "\u001b[2K     \u001b[90m━━━━━━━━━━━━━━━━━━━━━━━━━━━━━━━━━━━━━━━━\u001b[0m \u001b[32m4.4/4.4 MB\u001b[0m \u001b[31m44.2 MB/s\u001b[0m eta \u001b[36m0:00:00\u001b[0m\n",
            "\u001b[?25hCollecting PyMuPDFb==1.23.9 (from pymupdf)\n",
            "  Downloading PyMuPDFb-1.23.9-py3-none-manylinux2014_x86_64.manylinux_2_17_x86_64.whl (30.6 MB)\n",
            "\u001b[2K     \u001b[90m━━━━━━━━━━━━━━━━━━━━━━━━━━━━━━━━━━━━━━━━\u001b[0m \u001b[32m30.6/30.6 MB\u001b[0m \u001b[31m37.9 MB/s\u001b[0m eta \u001b[36m0:00:00\u001b[0m\n",
            "\u001b[?25hInstalling collected packages: PyMuPDFb, pymupdf\n",
            "Successfully installed PyMuPDFb-1.23.9 pymupdf-1.23.21\n"
          ]
        }
      ],
      "source": [
        "!pip install pymupdf"
      ]
    },
    {
      "cell_type": "code",
      "source": [
        "import os\n",
        "import pandas as pd\n",
        "import fitz  # PyMuPDF\n",
        "import re\n",
        "import logging"
      ],
      "metadata": {
        "id": "XgV538XzmBIT"
      },
      "execution_count": 2,
      "outputs": []
    },
    {
      "cell_type": "markdown",
      "source": [
        "## 990 Before 2018"
      ],
      "metadata": {
        "id": "4dp_H3oMmH6E"
      }
    },
    {
      "cell_type": "code",
      "source": [
        "def setup_logging():\n",
        "    \"\"\"\n",
        "    Setup logging configuration.\n",
        "    \"\"\"\n",
        "    logging.basicConfig(level=logging.INFO, format='%(asctime)s - %(levelname)s - %(message)s')\n",
        "\n",
        "def extract_text_from_pdf(pdf_path):\n",
        "    \"\"\"\n",
        "    Extract text from a PDF file.\n",
        "    \"\"\"\n",
        "    text = \"\"\n",
        "    try:\n",
        "        # Open the PDF\n",
        "        pdf_document = fitz.open(pdf_path)\n",
        "\n",
        "        # Iterate through each page\n",
        "        for page_number in range(len(pdf_document)):\n",
        "            page = pdf_document.load_page(page_number)\n",
        "\n",
        "            # Extract text from the page\n",
        "            text += page.get_text()\n",
        "\n",
        "        # Close the PDF\n",
        "        pdf_document.close()\n",
        "    except Exception as e:\n",
        "        logging.error(f\"Error occurred while extracting text from {pdf_path}: {e}\")\n",
        "\n",
        "    return text\n",
        "\n",
        "def extract_info(pdf_text, patterns):\n",
        "    \"\"\"\n",
        "    Extract information from PDF text based on provided patterns.\n",
        "    \"\"\"\n",
        "    info_dict = {}\n",
        "    for key, pattern in patterns.items():\n",
        "        match = re.search(pattern, pdf_text, re.DOTALL)\n",
        "        if match:\n",
        "            info_dict[key] = match.group(1).strip()\n",
        "    return info_dict\n",
        "\n",
        "def process_pdf(pdf_path, patterns):\n",
        "    \"\"\"\n",
        "    Process a single PDF file.\n",
        "    \"\"\"\n",
        "    # Extract text from PDF\n",
        "    pdf_text = extract_text_from_pdf(pdf_path)\n",
        "\n",
        "    # Extract information from PDF text\n",
        "    info_dict = extract_info(pdf_text, patterns)\n",
        "\n",
        "    # Initialize DataFrame\n",
        "    df = pd.DataFrame(info_dict, index=[0])\n",
        "\n",
        "    return df\n",
        "\n",
        "def main(pdf_directory, patterns):\n",
        "    \"\"\"\n",
        "    Main function to extract information from multiple PDFs and concatenate results.\n",
        "    \"\"\"\n",
        "    # List PDF files in the directory\n",
        "    pdf_files = [file for file in os.listdir(pdf_directory) if file.endswith('.pdf')]\n",
        "\n",
        "    # Process each PDF file\n",
        "    dfs = []\n",
        "    for pdf_file in pdf_files:\n",
        "        pdf_path = os.path.join(pdf_directory, pdf_file)\n",
        "        df = process_pdf(pdf_path, patterns)\n",
        "        dfs.append(df)\n",
        "\n",
        "    # Concatenate DataFrames\n",
        "    final_df = pd.concat(dfs, ignore_index=True)\n",
        "\n",
        "    return final_df\n",
        "\n",
        "if __name__ == \"__main__\":\n",
        "    setup_logging()\n",
        "    pdf_directory = 'Directory Including 990-EZ Before 2019'  # Replace\n",
        "    patterns = {\n",
        "        \"Organization\": r\"Address change \\n(.*?)\\nD Name change\",\n",
        "        \"Year\": r\"Exempt From Income Tax \\n(.*?)\\nForm990-EZ\",\n",
        "        \"Street\": r\"Initial return \\n(.*?)\\nD Final return\",\n",
        "        \"CityStateZip\": r\"and ZIP or foreign postal code \\n(.*?)\\nF Group Exemption\",\n",
        "        \"Receipts\": r\"• • • • ~ (.*?)\\nRevenue, Expenses,\",\n",
        "        \"Revenue\": r\"Add lines 1, 2, 3, 4, 5c, 6d, 7c, and 8 \\n• \\n9 \\n(.*?)\\n10\"\n",
        "    }\n",
        "    try:\n",
        "        df = main(pdf_directory, patterns)\n",
        "\n",
        "    except Exception as e:\n",
        "        logging.error(f\"An error occurred: {e}\")\n"
      ],
      "metadata": {
        "id": "ndk2bFeDmHaD"
      },
      "execution_count": null,
      "outputs": []
    }
  ]
}